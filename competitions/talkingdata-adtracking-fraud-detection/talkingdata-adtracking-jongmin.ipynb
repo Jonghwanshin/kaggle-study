{
 "cells": [
  {
   "cell_type": "markdown",
   "metadata": {},
   "source": [
    "# TalkingData AdTracking 데이터의 탐색적 분석 (Exploratory data analysis)\n",
    "### 0. 데이터 필드 정보 및 의견\n",
    "  - `ip`: ip address of click\n",
    "  - `app`: app id for marketing\n",
    "  - `device`: device type id of user mobile phone (e.g., iphone 6 plus, iphone 7, huawei mate 7, etc.)\n",
    "  - `os`: os version id of user mobile phone\n",
    "  - `channel`: channel id of mobile ad publisher\n",
    "  - `click_time`: timestamp of click (UTC)\n",
    "  - `attributed_time`: if user download the app for after clicking an ad, this is the time of the app download\n",
    "    * 데이터 필드 중 유일하게 attributed_time 은 학습 데이터에만 존재하는데 다른 필드 데이터들로 하여금 테스트 데이터 내에 이 필드값의 예측치를 채워넣을 수 있을지 모르니  **반드시 확인하는 작업을 진행할 계획**입니다. \n",
    "  - `is_attributed`: the target that is to be predicted, indicating the app was downloaded\n",
    "\n",
    "### 1. Upvote 1위의 EDA 자료를 요약 (by anokas)\n",
    "- 자료 링크 - https://www.kaggle.com/anokas/talkingdata-adtracking-eda\n",
    "  \n",
    "- 예측 확률에 따라 평가되는 LogLoss 방식과는 달리 0, 1을 확실히 구분해내는 것이 중요한 AUROC 평가에 해당합니다.\n",
    "    > 확률의 리스케일링 (상수 및 승수의 추가) 는 스코어에 영향이 없습니다.\n",
    "  \n",
    "- 압축된 1.8Gb 의 학습 데이터는 압축을 해제하면 무려 7.5Gb\n",
    "    ```bash\n",
    "    # File sizes\n",
    "    train.csv                     7537.65MB\n",
    "    test.csv                      863.27MB\n",
    "    sample_submission.csv         195.58MB\n",
    "    train_sample.csv              4.08MB\n",
    "\n",
    "    # Line count:\n",
    "    184903891 ../input/train.csv\n",
    "    18790470 ../input/test.csv\n",
    "    100001 ../input/train_sample.csv\n",
    "\n",
    "    ```\n",
    "    \n",
    "- 저자는 백만개 라인만 입력으로 사용하였습니다.\n",
    "- 데이터값이 전부 인코딩되어 있어서 다양한 차트를 통해 얻을 수 있는 인사이트가 **제한**됩니다.\n",
    "- 그러므로, 저자는 각 필드의 인코딩값의 유니크수, 인코딩 값별 빈도수의 분포도, 빈도수별 ID수를 나타내는 히스토그램 세가지 차트를 확인하였습니다.\n",
    "    * 약 4만 정도 index 근처 몇개 ip 들이 월등히 높은 6000 이상의 클릭수를 보이고 있습니다.\n",
    "    * app 은 명확하진 않지만 index 180 근처에 조금은 집중된 모습입니다.\n",
    "    * device 는 index 290 근처에 매우 높은 클릭수를 보인 1개 정도의 device 값이 있는 것이 확인됩니다.\n",
    "    * os 도 index 160 근처에서 높은 클릭수를 보인 2개 정도의 os 값이 확인됩니다.\n",
    "- 위 차트에서 확인한 것처럼 매우 극히 일부분의 필드값에 대해서만 Fraudulent 판정이 된 것으로 예상할 수 있습니다.\n",
    "    * 백만개 라인 중 겨우 0.17% 가 Fraudulent 라고 판정된 데이터로 **결론적으로 매우 불균형적으로 학습될 수 있는 데이터이므로 over 또는 under 샘플링이 반드시 필요할 것으로 보입니다.**\n",
    "    * **또는, 적절한 뉴럴넷의 하이퍼 파라미터 조정을 통해 이를 극복하거나 내부적으로 적절히 샘플링에 대응하는 Boolean 하이퍼 파라미터들을 포함하는 XGBoost, LightGBM 을 적용해보는 것이 좋은 방향 같습니다.**"
   ]
  },
  {
   "cell_type": "markdown",
   "metadata": {},
   "source": [
    "### 2. EDA 체험"
   ]
  },
  {
   "cell_type": "code",
   "execution_count": 6,
   "metadata": {},
   "outputs": [
    {
     "data": {
      "text/html": [
       "<!-- 에디터 폰트를 조정합니다. -->\n",
       "<style type='text/css'>\n",
       ".CodeMirror{\n",
       "    font-size: 14px;\n",
       "    font-family: D2Coding;\n",
       "</style>"
      ],
      "text/plain": [
       "<IPython.core.display.HTML object>"
      ]
     },
     "metadata": {},
     "output_type": "display_data"
    }
   ],
   "source": [
    "%%html\n",
    "<!-- 에디터 폰트를 조정합니다. -->\n",
    "<style type='text/css'>\n",
    ".CodeMirror{\n",
    "    font-size: 14px;\n",
    "    font-family: D2Coding;\n",
    "</style>"
   ]
  },
  {
   "cell_type": "code",
   "execution_count": 8,
   "metadata": {},
   "outputs": [
    {
     "name": "stdout",
     "output_type": "stream",
     "text": [
      "['sample_submission.csv', 'test.csv', 'train.csv', 'train_sample.csv']\n"
     ]
    }
   ],
   "source": [
    "import numpy as np # linear algebra\n",
    "import pandas as pd # data processing, CSV file I/O (e.g. pd.read_csv)\n",
    "import matplotlib.pyplot as plt\n",
    "import seaborn as sns\n",
    "%matplotlib inline\n",
    "\n",
    "import os\n",
    "print(os.listdir(\"./data\"))"
   ]
  },
  {
   "cell_type": "code",
   "execution_count": 10,
   "metadata": {},
   "outputs": [
    {
     "data": {
      "text/plain": [
       "<Figure size 864x576 with 0 Axes>"
      ]
     },
     "metadata": {},
     "output_type": "display_data"
    }
   ],
   "source": [
    "# make wider graphs\n",
    "sns.set(rc={'figure.figsize':(12,8)});\n",
    "plt.figure(figsize=(12,8));"
   ]
  },
  {
   "cell_type": "code",
   "execution_count": null,
   "metadata": {},
   "outputs": [],
   "source": [
    "# import first 10,000,000 rows of train and all test data\n",
    "train = pd.read_csv('./data/train.csv', nrows=10000000)\n",
    "test = pd.read_csv('./data/test.csv')"
   ]
  },
  {
   "cell_type": "markdown",
   "metadata": {},
   "source": [
    " "
   ]
  },
  {
   "cell_type": "markdown",
   "metadata": {},
   "source": [
    " "
   ]
  },
  {
   "cell_type": "markdown",
   "metadata": {},
   "source": [
    " "
   ]
  },
  {
   "cell_type": "code",
   "execution_count": null,
   "metadata": {},
   "outputs": [],
   "source": [
    "train.head()"
   ]
  },
  {
   "cell_type": "markdown",
   "metadata": {},
   "source": [
    " "
   ]
  },
  {
   "cell_type": "markdown",
   "metadata": {},
   "source": [
    " "
   ]
  },
  {
   "cell_type": "markdown",
   "metadata": {},
   "source": [
    " "
   ]
  },
  {
   "cell_type": "code",
   "execution_count": null,
   "metadata": {},
   "outputs": [],
   "source": [
    "test.head()"
   ]
  },
  {
   "cell_type": "markdown",
   "metadata": {},
   "source": [
    " "
   ]
  },
  {
   "cell_type": "markdown",
   "metadata": {},
   "source": [
    " "
   ]
  },
  {
   "cell_type": "markdown",
   "metadata": {},
   "source": [
    "describe 함수를 사용하여 category, datetime 측면의 정보를 얻기위해 type 을 설정합니다."
   ]
  },
  {
   "cell_type": "code",
   "execution_count": null,
   "metadata": {},
   "outputs": [],
   "source": [
    "categorical_fields = ['ip', 'app', 'device', 'os', 'channel']\n",
    "for field in categorical_fields:\n",
    "    train[field] = train[field].astype('category')\n",
    "    test[field]=test[field].astype('category')\n",
    "train['is_attributed']=train['is_attributed'].astype('category')\n",
    "    \n",
    "# set click_time and attributed_time as timeseries\n",
    "train['click_time'] = pd.to_datetime(train['click_time'])\n",
    "train['attributed_time'] = pd.to_datetime(train['attributed_time'])\n",
    "test['click_time'] = pd.to_datetime(test['click_time'])"
   ]
  },
  {
   "cell_type": "markdown",
   "metadata": {},
   "source": [
    " "
   ]
  },
  {
   "cell_type": "markdown",
   "metadata": {},
   "source": [
    " "
   ]
  },
  {
   "cell_type": "markdown",
   "metadata": {},
   "source": [
    " "
   ]
  },
  {
   "cell_type": "markdown",
   "metadata": {},
   "source": [
    "top 는 most common value 를 의미합니다. 그리고 그 반복횟수가 freq 입니다."
   ]
  },
  {
   "cell_type": "code",
   "execution_count": null,
   "metadata": {},
   "outputs": [],
   "source": [
    "train.describe()"
   ]
  },
  {
   "cell_type": "markdown",
   "metadata": {},
   "source": [
    " "
   ]
  },
  {
   "cell_type": "markdown",
   "metadata": {},
   "source": [
    " "
   ]
  },
  {
   "cell_type": "markdown",
   "metadata": {},
   "source": [
    " "
   ]
  },
  {
   "cell_type": "markdown",
   "metadata": {},
   "source": [
    "필드별 유니크한 값 카운트입니다. ip 필드가 특별히 많은 유니크수를 보이고 있어서,\n",
    "이들이 잘 분류(그룹)시킬 수 있다면 학습 데이터의 차원(Dimension)수를 줄여 모델 구축 속도를 개선함으로써 더 큰 볼륨의 학습 데이터를 가지고 모델을 만들어 볼 수 있을 것이라고 생각해보았습니다."
   ]
  },
  {
   "cell_type": "code",
   "execution_count": null,
   "metadata": {},
   "outputs": [],
   "source": [
    "cols = ['ip', 'app', 'device', 'os', 'channel']\n",
    "uniques = [len(train[col].unique()) for col in cols]\n",
    "\n",
    "sns.set(font_scale=2)\n",
    "pal = sns.color_palette()\n",
    "ax = sns.barplot(cols, uniques, palette=pal, log=True)\n",
    "ax.set(xlabel='Feature', ylabel='log(unique count)', title='Number of unique values per feature')\n",
    "\n",
    "for p, uniq in zip(ax.patches, uniques):\n",
    "    height = p.get_height()\n",
    "    ax.text(p.get_x()+p.get_width()/2.,\n",
    "            height + 10,\n",
    "            uniq,\n",
    "            ha=\"center\") "
   ]
  },
  {
   "cell_type": "markdown",
   "metadata": {},
   "source": [
    " "
   ]
  },
  {
   "cell_type": "markdown",
   "metadata": {},
   "source": [
    " "
   ]
  },
  {
   "cell_type": "markdown",
   "metadata": {},
   "source": [
    " "
   ]
  },
  {
   "cell_type": "markdown",
   "metadata": {},
   "source": [
    "클릭 시간의 흐름대로 fradulent conversion 추이를 확인해보았습니다."
   ]
  },
  {
   "cell_type": "code",
   "execution_count": null,
   "metadata": {},
   "outputs": [],
   "source": [
    "df_fradulent_conversion = train[[\"click_time\", \"attributed_time\"]].query('attributed_time != \"NaT\"')\n",
    "df_fradulent_conversion[\"click_time\"] = df_fradulent_conversion[\"click_time\"].astype(int)\n",
    "df_fradulent_conversion[\"attributed_time\"] = df_fradulent_conversion[\"attributed_time\"].dt.strftime(\"%Y-%m-%d %H:%M:%S\")\n",
    "df_fradulent_conversion.head(10)\n",
    "#sns.jointplot(x=\"click_time\", y=\"attributed_time\", data=df_fradulent_conversion, kind='scatter')"
   ]
  },
  {
   "cell_type": "markdown",
   "metadata": {},
   "source": [
    " "
   ]
  },
  {
   "cell_type": "markdown",
   "metadata": {},
   "source": [
    " "
   ]
  },
  {
   "cell_type": "markdown",
   "metadata": {},
   "source": [
    " "
   ]
  },
  {
   "cell_type": "markdown",
   "metadata": {},
   "source": [
    "Not Fradulent 클래스의 데이터가 대부분임에 주의해야합니다."
   ]
  },
  {
   "cell_type": "code",
   "execution_count": null,
   "metadata": {},
   "outputs": [],
   "source": [
    "plt.figure(figsize=(8, 8))\n",
    "sns.set(font_scale=1.2)\n",
    "mean = (train.is_attributed.values == 1).mean()\n",
    "ax = sns.barplot(['Fraudulent (1)', 'Not Fradulent (0)'], [mean, 1-mean], palette=pal)\n",
    "ax.set(xlabel='Target Value', ylabel='Probability', title='Target value distribution')\n",
    "for p, uniq in zip(ax.patches, [mean, 1-mean]):\n",
    "    height = p.get_height()\n",
    "    ax.text(p.get_x()+p.get_width()/2.,\n",
    "            height+0.01,\n",
    "            '{}%'.format(round(uniq * 100, 2)),\n",
    "            ha=\"center\") "
   ]
  },
  {
   "cell_type": "markdown",
   "metadata": {},
   "source": [
    " "
   ]
  },
  {
   "cell_type": "markdown",
   "metadata": {},
   "source": [
    " "
   ]
  },
  {
   "cell_type": "markdown",
   "metadata": {},
   "source": [
    " "
   ]
  },
  {
   "cell_type": "markdown",
   "metadata": {},
   "source": [
    "Fradulent 에 해당하는 데이터를 오버샘플링할때 ip 특정 range 에 가중치를 부여해볼 수 있을 것 같았지만, 시간대별 샘플 수를 보니 의미없다는 것을 확인하였습니다."
   ]
  },
  {
   "cell_type": "code",
   "execution_count": null,
   "metadata": {},
   "outputs": [],
   "source": [
    "fraudip = train[[\"ip\", \"is_attributed\"]][train[\"is_attributed\"]==1][\"ip\"]\n",
    "\n",
    "fig = plt.figure()\n",
    "ax = fig.add_subplot(1, 1, 1)\n",
    "plt.hist(fraudip, bins=100)\n",
    "plt.title(\"Histogram of counts for {}\".format('fraudip'))\n",
    "plt.ylabel('count')\n",
    "plt.xlabel('fraudip')\n",
    "plt.show()"
   ]
  },
  {
   "cell_type": "code",
   "execution_count": null,
   "metadata": {},
   "outputs": [],
   "source": [
    "click_time = train[\"click_time\"]\n",
    "\n",
    "fig = plt.figure()\n",
    "ax = fig.add_subplot(1, 1, 1)\n",
    "plt.hist(fraudip, bins=1000)\n",
    "plt.title(\"Histogram of counts for {}\".format('click_time'))\n",
    "plt.ylabel('click_time')\n",
    "plt.xlabel('count')\n",
    "plt.show()"
   ]
  },
  {
   "cell_type": "markdown",
   "metadata": {},
   "source": [
    " "
   ]
  },
  {
   "cell_type": "markdown",
   "metadata": {},
   "source": [
    " "
   ]
  },
  {
   "cell_type": "markdown",
   "metadata": {},
   "source": [
    " "
   ]
  },
  {
   "cell_type": "code",
   "execution_count": null,
   "metadata": {},
   "outputs": [],
   "source": [
    "train['is_attributed']=train['is_attributed'].astype(int)\n",
    "train[['ip', 'is_attributed']].groupby('ip', as_index=False).mean().sort_values('is_attributed', ascending=False)"
   ]
  }
 ],
 "metadata": {
  "kernelspec": {
   "display_name": "Python 3",
   "language": "python",
   "name": "python3"
  },
  "language_info": {
   "codemirror_mode": {
    "name": "ipython",
    "version": 3
   },
   "file_extension": ".py",
   "mimetype": "text/x-python",
   "name": "python",
   "nbconvert_exporter": "python",
   "pygments_lexer": "ipython3",
   "version": "3.6.4"
  }
 },
 "nbformat": 4,
 "nbformat_minor": 2
}
